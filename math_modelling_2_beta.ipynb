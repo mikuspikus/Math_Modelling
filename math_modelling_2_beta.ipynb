{
 "cells": [
  {
   "cell_type": "code",
   "execution_count": 1,
   "metadata": {
    "collapsed": false
   },
   "outputs": [],
   "source": [
    "%matplotlib inline\n",
    "import numpy as np\n",
    "import math as mth\n",
    "from numpy import polynomial as pn"
   ]
  },
  {
   "cell_type": "markdown",
   "metadata": {
    "collapsed": false
   },
   "source": [
    "** Три параллельных графитовых электрода дуговой печи переменного тока имеют длину $ 3 м $ каждый. Расстояние между ними равно $ b = 0.9 м $. Определить среднюю электромагнитную силу, действующую на каждый электрод при амплитудном значении тока $ I_{0} = 10 кА $. Сдвиг по фазе между текущими электродами принять $ \\phi = 120^{\\circ} $.**\n",
    "\n",
    "***На единицу длины тока действует мгновенная сила*** $$ F = \\frac{\\mu_{0} I_{1} I_{2}}{2 \\pi b}, \\mu_{0} = 4\\pi\\bullet10^{-7} Г/м. $$"
   ]
  },
  {
   "cell_type": "code",
   "execution_count": 2,
   "metadata": {
    "collapsed": false
   },
   "outputs": [],
   "source": [
    "def trapezoidal_rule(function, a, b, n):\n",
    "    result = 0\n",
    "    h = (b - a) / n\n",
    "    for x in np.arange(a + h, b, h):\n",
    "        result += function(x)\n",
    "    result = ((function(a) + function(b)) / 2 + result) * h\n",
    "    return result\n",
    "\n",
    "def simpsons_rule(function, a, b, n):\n",
    "    result = 0\n",
    "    h = (b - a) / n\n",
    "    for x in range(1, n):\n",
    "        if x % 2 == 0:\n",
    "            result += 2 * function(a + x*h)\n",
    "        else:\n",
    "            result += 4 * function(a + x*h)\n",
    "    result = h*(result + function(a) + function(b)) / 3\n",
    "    return result\n",
    "\n",
    "def gauss_rule(function, a, b, n):\n",
    "    def calculate(n):\n",
    "        result = 0.0\n",
    "        t_list, a_list = pn.legendre.leggauss(n)\n",
    "        for a_i, t_i in zip(a_list, t_list):\n",
    "            result += a_i * function((b + a) / 2 + t_i * (b - a) / 2)\n",
    "        result *= (b - a)/2\n",
    "        return result\n",
    "    return calculate(n)\n",
    "        \n",
    "def runge_rule(function, a, b, eps):\n",
    "    def calculate(rule, k):\n",
    "        n = 10\n",
    "        delta = 1\n",
    "        result_n = 0.0\n",
    "        while delta > eps:\n",
    "            result_n = rule(function, a, b, n)\n",
    "            result_2n = rule(function, a, b, 2* n)\n",
    "            n *= 2\n",
    "            delta = abs(result_n - result_2n)/k\n",
    "        return result_n\n",
    "    return (calculate(trapezoidal_rule, 3), \n",
    "            calculate(simpsons_rule, 15))"
   ]
  },
  {
   "cell_type": "code",
   "execution_count": 3,
   "metadata": {
    "collapsed": false
   },
   "outputs": [],
   "source": [
    "I_0 = 10e3 #\n",
    "phi = 4 * mth.pi/3 #\n",
    "T = 1/50 #\n",
    "omega = 2 * mth.pi/T #\n",
    "l = 3 #\n",
    "b = 0.9 #\n",
    "mu_0 = 4e-7 * mth.pi #\n",
    "k = l * mu_0/(2 * b * T * mth.pi) #\n",
    "epsilon = 1e-6\n",
    "\n",
    "i_1 = lambda t : I_0 * mth.sin(omega * t)\n",
    "\n",
    "i_2 = lambda t : I_0 * mth.sin(omega * t + phi)\n",
    "\n",
    "i_3 = lambda t : I_0 * mth.sin(omega * t - phi)"
   ]
  },
  {
   "cell_type": "markdown",
   "metadata": {},
   "source": [
    "**Вычисление интегралов: $$ F_{12} = \\frac{\\mu_{0} l}{2\\pi T} \\int_{0}^{T} i_1(t)i_2(t) dt $$ **"
   ]
  },
  {
   "cell_type": "code",
   "execution_count": 4,
   "metadata": {
    "collapsed": false
   },
   "outputs": [
    {
     "name": "stdout",
     "output_type": "stream",
     "text": [
      "Вычисление методом трапеций: -16.666666213057454\n",
      "Вычисление методом Симпсона: -16.666666213338182\n",
      "Вычисление методом Гаусса: -16.6666662132\n",
      "Истинное значение: -16.66666666666666\n"
     ]
    }
   ],
   "source": [
    "int_f_12 = lambda t : 25e4 * (-100 * t - mth.sin(200 * mth.pi + 2 * mth.pi/3)/mth.pi)\n",
    "\n",
    "f_12 = list(runge_rule(lambda x : i_1(x) * i_2(x), epsilon, T, 1e-6))\n",
    "f_12.append(gauss_rule(lambda x : i_1(x) * i_2(x), epsilon, T, 61))\n",
    "f_12.append(int_f_12(T) - int_f_12(0))\n",
    "\n",
    "print('Вычисление методом трапеций:',k * f_12[0])\n",
    "print('Вычисление методом Симпсона:',k * f_12[1])\n",
    "print('Вычисление методом Гаусса:', k * f_12[2])\n",
    "print('Истинное значение:', k * f_12[3])"
   ]
  },
  {
   "cell_type": "markdown",
   "metadata": {},
   "source": [
    "** $$ F_{23} = \\frac{\\mu_{0} l}{2\\pi T} \\int_{0}^{T} i_2(t)i_3(t) dt $$ **"
   ]
  },
  {
   "cell_type": "code",
   "execution_count": 5,
   "metadata": {
    "collapsed": false
   },
   "outputs": [
    {
     "name": "stdout",
     "output_type": "stream",
     "text": [
      "Вычисление методом трапеций: -16.66416666682876\n",
      "Вычисление методом Симпсона: -16.664166666423803\n",
      "Вычисление методом Гаусса: -16.6641666668\n",
      "Истинное значение: -16.666666666666675\n"
     ]
    }
   ],
   "source": [
    "int_f_23 = lambda t : 25e4 * (-100 * t - mth.sin(200 * mth.pi)/mth.pi)\n",
    "\n",
    "f_23 = list(runge_rule(lambda x : i_2(x) * i_3(x), epsilon, T, 1e-6))\n",
    "f_23.append(gauss_rule(lambda x : i_2(x) * i_3(x), epsilon, T, 61))\n",
    "f_23.append(int_f_23(T))\n",
    "\n",
    "print('Вычисление методом трапеций:',k * f_23[0])\n",
    "print('Вычисление методом Симпсона:',k * f_23[1])\n",
    "print('Вычисление методом Гаусса:', k * f_23[2])\n",
    "print('Истинное значение:', k * f_23[3])"
   ]
  },
  {
   "cell_type": "markdown",
   "metadata": {},
   "source": [
    "** $$ F_{13} = \\frac{\\mu_{0} l}{2\\pi T} \\int_{0}^{T} i_1(t)i_3(t) dt $$ **"
   ]
  },
  {
   "cell_type": "code",
   "execution_count": 6,
   "metadata": {
    "collapsed": false
   },
   "outputs": [
    {
     "name": "stdout",
     "output_type": "stream",
     "text": [
      "Вычисление методом трапеций: -16.666667119957026\n",
      "Вычисление методом Симпсона: -16.666667120238017\n",
      "Вычисление методом Гаусса: -16.6666671201\n",
      "Истинное значение: -16.666666666666664\n"
     ]
    }
   ],
   "source": [
    "int_f_13 = lambda t : 25e4 * (-100 * t - mth.sin(200 * mth.pi - 2*mth.pi/3)/mth.pi)\n",
    "\n",
    "f_13 = list(runge_rule(lambda x : i_1(x) * i_3(x), epsilon, T, 1e-6))\n",
    "f_13.append(gauss_rule(lambda x : i_1(x) * i_3(x), epsilon, T, 61))\n",
    "f_13.append(int_f_13(T) - int_f_13(0))\n",
    "\n",
    "print('Вычисление методом трапеций:',k * f_13[0])\n",
    "print('Вычисление методом Симпсона:',k * f_13[1])\n",
    "print('Вычисление методом Гаусса:', k * f_13[2])\n",
    "print('Истинное значение:', k * f_13[3])"
   ]
  },
  {
   "cell_type": "markdown",
   "metadata": {},
   "source": [
    "** Вычисление общей силы:$$ F_{1рез} = \\sqrt{F_{12}^2 + F_{13}^2 - 2 F_{12} F_{13} cos 120^\\circ} $$\n",
    "$$ F_{2рез} = \\sqrt{F_{12}^2 + F_{23}^2 - 2 F_{12} F_{23} cos 120^\\circ} $$\n",
    "$$ F_{3рез} = \\sqrt{F_{23}^2 + F_{13}^2 - 2 F_{23} F_{13} cos 120^\\circ} $$**"
   ]
  },
  {
   "cell_type": "code",
   "execution_count": 7,
   "metadata": {
    "collapsed": false
   },
   "outputs": [
    {
     "name": "stdout",
     "output_type": "stream",
     "text": [
      "Результат, полученный решением методом трапеций:\n",
      "F1 = 28.86751345920516\n",
      "F2 = 28.865348030330605\n",
      "F3 = 28.865348815748312\n",
      "\n",
      "Результат, полученный решением методом Симпсона:\n",
      "F1 = 28.867513459691622\n",
      "F2 = 28.865348030223036\n",
      "F3 = 28.86534881564097\n",
      "\n",
      "Результат, полученный решением методом Гаусса:\n",
      "F1 = 28.867513459386334\n",
      "F2 = 28.865348030375735\n",
      "F3 = 28.865348815793503\n",
      "\n",
      "Результат, полученный решением первообразной:\n",
      "F1 = 28.867513459481287\n",
      "F2 = 28.867513459481295\n",
      "F3 = 28.867513459481298\n"
     ]
    }
   ],
   "source": [
    "print('Результат, полученный решением методом трапеций:')\n",
    "f_1_res = k * mth.sqrt(f_12[0] ** 2 + f_13[0] ** 2 - 2 * f_12[0] * f_13[0] * mth.cos(phi))\n",
    "print('F1 =',f_1_res)\n",
    "\n",
    "f_2_res = k * mth.sqrt(f_12[0] ** 2 + f_23[0] ** 2 - 2 * f_12[0] * f_23[0] * mth.cos(phi))\n",
    "print('F2 =',f_2_res)\n",
    "\n",
    "f_3_res = k * mth.sqrt(f_23[0] ** 2 + f_13[0] ** 2 - 2 * f_23[0] * f_13[0] * mth.cos(phi))\n",
    "print('F3 =',f_3_res)\n",
    "\n",
    "\n",
    "print('\\nРезультат, полученный решением методом Симпсона:')\n",
    "f_1_res = k * mth.sqrt(f_12[1] ** 2 + f_13[1] ** 2 - 2 * f_12[1] * f_13[1] * mth.cos(phi))\n",
    "print('F1 =',f_1_res)\n",
    "\n",
    "f_2_res = k * mth.sqrt(f_12[1] ** 2 + f_23[1] ** 2 - 2 * f_12[1] * f_23[1] * mth.cos(phi))\n",
    "print('F2 =',f_2_res)\n",
    "\n",
    "f_3_res = k * mth.sqrt(f_23[1] ** 2 + f_13[1] ** 2 - 2 * f_23[1] * f_13[1] * mth.cos(phi))\n",
    "print('F3 =',f_3_res)\n",
    "\n",
    "\n",
    "print('\\nРезультат, полученный решением методом Гаусса:')\n",
    "f_1_res = k * mth.sqrt(f_12[2] ** 2 + f_13[2] ** 2 - 2 * f_12[2] * f_13[2] * mth.cos(phi))\n",
    "print('F1 =',f_1_res)\n",
    "\n",
    "f_2_res = k * mth.sqrt(f_12[2] ** 2 + f_23[2] ** 2 - 2 * f_12[2] * f_23[2] * mth.cos(phi))\n",
    "print('F2 =',f_2_res)\n",
    "\n",
    "f_3_res = k * mth.sqrt(f_23[2] ** 2 + f_13[2] ** 2 - 2 * f_23[2] * f_13[2] * mth.cos(phi))\n",
    "print('F3 =',f_3_res)\n",
    "\n",
    "\n",
    "print('\\nРезультат, полученный решением первообразной:')\n",
    "f_1_res = k * mth.sqrt(f_12[3] ** 2 + f_13[3] ** 2 - 2 * f_12[3] * f_13[3] * mth.cos(phi))\n",
    "print('F1 =',f_1_res)\n",
    "\n",
    "f_2_res = k * mth.sqrt(f_12[3] ** 2 + f_23[3] ** 2 - 2 * f_12[3] * f_23[3] * mth.cos(phi))\n",
    "print('F2 =',f_2_res)\n",
    "\n",
    "f_3_res = k * mth.sqrt(f_23[3] ** 2 + f_13[3] ** 2 - 2 * f_23[3] * f_13[3] * mth.cos(phi))\n",
    "print('F3 =',f_3_res)"
   ]
  },
  {
   "cell_type": "code",
   "execution_count": null,
   "metadata": {
    "collapsed": true
   },
   "outputs": [],
   "source": []
  }
 ],
 "metadata": {
  "kernelspec": {
   "display_name": "Python 3",
   "language": "python",
   "name": "python3"
  },
  "language_info": {
   "codemirror_mode": {
    "name": "ipython",
    "version": 3
   },
   "file_extension": ".py",
   "mimetype": "text/x-python",
   "name": "python",
   "nbconvert_exporter": "python",
   "pygments_lexer": "ipython3",
   "version": "3.5.2"
  },
  "widgets": {
   "state": {},
   "version": "1.1.2"
  }
 },
 "nbformat": 4,
 "nbformat_minor": 0
}

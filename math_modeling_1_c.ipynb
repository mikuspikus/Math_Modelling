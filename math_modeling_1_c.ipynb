{
 "cells": [
  {
   "cell_type": "markdown",
   "metadata": {},
   "source": [
    "## Скорость жидкости $w_{0} = 1.5$ м/c, $x_{0} = 0.5$\n",
    "## Коэффициент теплопроводности $\\lambda = 0.0251$\n",
    "## Длина пластины $L = 0.8$\n",
    "## Коэффициент кинематической вязкости $\\nu = 14.6\\cdot10^{-6}$"
   ]
  },
  {
   "cell_type": "code",
   "execution_count": 1,
   "metadata": {
    "collapsed": false
   },
   "outputs": [
    {
     "name": "stdout",
     "output_type": "stream",
     "text": [
      "Проверка ламинарности потока Re(L) =  82191.78082191781\n"
     ]
    }
   ],
   "source": [
    "import numpy as np\n",
    "\n",
    "w0 = 1.5 # Скорость жидкости в м/с\n",
    "x0 = 0.5\n",
    "lambd = 0.0251 # Коэффициент теплопроводности\n",
    "L = 0.8 # Длина пластины\n",
    "v = 14.6e-6 # Коэффициент вязкости жидкости\n",
    "epsilon = 1e-6\n",
    "\n",
    "Re = lambda x: (w0 * x) / v\n",
    "\n",
    "def alpha(x):\n",
    "    return 0.0255 * lambd * (Re(x) ** 0.8) / x\n",
    "\n",
    "def delta(x):\n",
    "    return (4.64 * x) / np.sqrt(Re(x))\n",
    "\n",
    "def W(x, y):\n",
    "    return (3 * w0 * y) / (2 * delta(x)) - (w0 * y ** 3) / (2 * delta(x) ** 3)\n",
    "\n",
    "def trapezoidal_rule(function, a, b, n):\n",
    "    result = 0\n",
    "    h = (b - a) / n\n",
    "    for x in np.arange(a + h, b, h):\n",
    "        result += function(x)\n",
    "    result = ((function(a) + function(b)) / 2 + result) * h\n",
    "    return result\n",
    "\n",
    "def simpsons_rule(function, a, b, n):\n",
    "    result = 0\n",
    "    h = (b - a) / n\n",
    "    for x in range(1, n):\n",
    "        if x % 2 == 0:\n",
    "            result += 2 * function(a + x*h)\n",
    "        else:\n",
    "            result += 4 * function(a + x*h)\n",
    "    result = h*(result + function(a) + function(b)) / 3\n",
    "    return result\n",
    "\n",
    "def gauss_rule(function, a, b):\n",
    "    #six points rule\n",
    "    a_list = [0.171324492, 0.360161573, 0.467913935, \n",
    "              0.467913935, 0.360161573, 0.171324492]\n",
    "    t_list = [-0.932469514, -0.661209386, -0.238619186,\n",
    "              0.238619186, 0.661209386, 0.932469514]\n",
    "    result = 0\n",
    "    for a_i, t_i in zip(a_list, t_list):\n",
    "        result += a_i * function((b + a) / 2 + t_i * (b - a) / 2)\n",
    "    result *= (b - a) / 2\n",
    "    return result\n",
    "\n",
    "def runge_rule(function, a, b, eps):\n",
    "    result_tr = 0.0\n",
    "    result_simp = 0.0\n",
    "    #for simpsons rule\n",
    "    n = 10 # Начальное количество узлов в сетке \n",
    "    delta = 1 #Начальная погрешность\n",
    "    while delta > eps:\n",
    "        result_n = simpsons_rule(function, a, b, n) # Начальное значение интеграла\n",
    "        result_2n = simpsons_rule(function, a, b, 2*n)\n",
    "        n *= 2\n",
    "        delta = abs(result_2n - result_n)/15\n",
    "    result_simp = result_n\n",
    "    #for trapezoidal rule\n",
    "    n = 10 # Начальное количество узлов в сетке \n",
    "    delta = 1 #Начальная погрешность\n",
    "    while delta > eps:\n",
    "        result_n = trapezoidal_rule(function, a, b, n) # Начальное значение интеграла\n",
    "        result_2n = trapezoidal_rule(function, a, b, 2*n)\n",
    "        n *= 2\n",
    "        delta = abs(result_2n - result_n)/3\n",
    "    result_tr = result_n\n",
    "    return (result_tr, result_simp)\n",
    "    \n",
    "print('Проверка ламинарности потока Re(L) = ', Re(L))"
   ]
  },
  {
   "cell_type": "markdown",
   "metadata": {
    "collapsed": true
   },
   "source": [
    "$$W_{sr} = \\int_{0}^{\\delta(x_{0})} w(x_{0}, y) dy$$\n",
    "$$W_{sr} = \\frac{W_{sr}}{\\delta(x_{0})}$$\n",
    "### Истинное значение: $W_{sr} = 0.937$"
   ]
  },
  {
   "cell_type": "code",
   "execution_count": 2,
   "metadata": {
    "collapsed": false
   },
   "outputs": [
    {
     "name": "stdout",
     "output_type": "stream",
     "text": [
      "Результат метода трапеций: 0.935625355614\n",
      "Результат метода Симпсона: 0.937499989263\n",
      "Результат метода Гаусса: 0.93695501316\n"
     ]
    }
   ],
   "source": [
    "values_W = runge_rule(lambda y: W(x0,y), epsilon, delta(x0), 1e-5)\n",
    "print('Результат метода трапеций:', \n",
    "      values_W[0]/delta(x0))\n",
    "print('Результат метода Симпсона:', \n",
    "      values_W[1]/delta(x0))\n",
    "print('Результат метода Гаусса:', \n",
    "      gauss_rule(lambda y: W(x0,y), epsilon, delta(x0))/delta(x0))"
   ]
  },
  {
   "cell_type": "markdown",
   "metadata": {},
   "source": [
    "$$\\alpha_{1} = \\int_{0}^{L} \\alpha(x) dx$$\n",
    "$$\\alpha_{1} = \\frac{\\alpha_{1}}{L}$$\n",
    "## Истинное значение: $\\alpha_{1} = 8.549$"
   ]
  },
  {
   "cell_type": "code",
   "execution_count": 3,
   "metadata": {
    "collapsed": false
   },
   "outputs": [
    {
     "name": "stdout",
     "output_type": "stream",
     "text": [
      "Результат метода трапеций: 8.54858585564\n",
      "Результат метода Симпсона: 8.548621429910618\n",
      "Результат метода Гаусса: 8.480105768986641\n"
     ]
    }
   ],
   "source": [
    "values_alpha = runge_rule(alpha, epsilon, L, 1e-5)\n",
    "print('Результат метода трапеций:', \n",
    "      values_alpha[0]/L)\n",
    "print('Результат метода Симпсона:', \n",
    "      values_alpha[1]/L)\n",
    "print('Результат метода Гаусса:', \n",
    "      gauss_rule(alpha, epsilon, L)/L)"
   ]
  },
  {
   "cell_type": "code",
   "execution_count": 4,
   "metadata": {
    "collapsed": true
   },
   "outputs": [],
   "source": [
    "%matplotlib inline\n",
    "import matplotlib\n",
    "import matplotlib.pyplot as plt "
   ]
  },
  {
   "cell_type": "markdown",
   "metadata": {},
   "source": [
    "## Зависимость скорости жидкости от расстояния до поверхности пластины"
   ]
  },
  {
   "cell_type": "code",
   "execution_count": 5,
   "metadata": {
    "collapsed": false
   },
   "outputs": [
    {
     "data": {
      "image/png": "[encoded data removed]",
      "text/plain": [
       "<matplotlib.figure.Figure at 0x9bff687c88>"
      ]
     },
     "metadata": {},
     "output_type": "display_data"
    }
   ],
   "source": [
    "h = 1e-6\n",
    "xs = np.arange(epsilon , delta(x0) + h, h)\n",
    "ys = [W(x0, x) for x in xs]\n",
    "fig, ax = plt.subplots(figsize=(20,10))\n",
    "ax.plot(xs, ys, '-b',label = 'Wsr(x0, y)')\n",
    "plt.xlabel('x', fontsize = 14)\n",
    "plt.ylabel('y', fontsize = 14)\n",
    "ax.xaxis.set_minor_locator(plt.MultipleLocator(50))\n",
    "ax.yaxis.set_minor_locator(plt.MultipleLocator(50))\n",
    "ax.axhline(0, color='black')\n",
    "ax.axvline(0, color='black')\n",
    "ax.grid(which='major', axis='x', linewidth=0.75, linestyle='-', color='0.75')\n",
    "ax.grid(which='major', axis='y', linewidth=0.75, linestyle='-', color='0.75')\n",
    "legend = ax.legend(loc = 'upper center', shadow = True)\n",
    "\n",
    "frame = legend.get_frame()\n",
    "frame.set_facecolor('0.90')\n",
    "\n",
    "plt.show()"
   ]
  },
  {
   "cell_type": "markdown",
   "metadata": {},
   "source": [
    "## Зависимость коэффициента теплоотдачи по длине пластины"
   ]
  },
  {
   "cell_type": "code",
   "execution_count": 6,
   "metadata": {
    "collapsed": false
   },
   "outputs": [
    {
     "data": {
      "image/png": "[encoded data removed]",
      "text/plain": [
       "<matplotlib.figure.Figure at 0x9bff687b00>"
      ]
     },
     "metadata": {},
     "output_type": "display_data"
    }
   ],
   "source": [
    "xs = np.arange(epsilon, L + h, h)\n",
    "ys = [alpha(x) for x in xs]\n",
    "fig, ax = plt.subplots(figsize=(20,10))\n",
    "ax.plot(xs, ys, '-b',label = 'alpha(x)')\n",
    "plt.xlabel('x', fontsize = 14)\n",
    "plt.ylabel('y', fontsize = 14)\n",
    "ax.xaxis.set_minor_locator(plt.MultipleLocator(1))\n",
    "ax.yaxis.set_minor_locator(plt.MultipleLocator(1))\n",
    "ax.axhline(0, color='black')\n",
    "ax.axvline(0, color='black')\n",
    "ax.grid(which='major', axis='x', linewidth=0.75, linestyle='-', color='0.75')\n",
    "ax.grid(which='major', axis='y', linewidth=0.75, linestyle='-', color='0.75')\n",
    "legend = ax.legend(loc = 'upper center', shadow = True)\n",
    "\n",
    "frame = legend.get_frame()\n",
    "frame.set_facecolor('0.90')\n",
    "\n",
    "plt.show()"
   ]
  },
  {
   "cell_type": "code",
   "execution_count": null,
   "metadata": {
    "collapsed": true
   },
   "outputs": [],
   "source": []
  }
 ],
 "metadata": {
  "kernelspec": {
   "display_name": "Python 3",
   "language": "python",
   "name": "python3"
  },
  "language_info": {
   "codemirror_mode": {
    "name": "ipython",
    "version": 3
   },
   "file_extension": ".py",
   "mimetype": "text/x-python",
   "name": "python",
   "nbconvert_exporter": "python",
   "pygments_lexer": "ipython3",
   "version": "3.5.2"
  }
 },
 "nbformat": 4,
 "nbformat_minor": 0
}

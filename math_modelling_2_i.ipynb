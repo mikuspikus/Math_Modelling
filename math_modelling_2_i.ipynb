{
 "cells": [
  {
   "cell_type": "code",
   "execution_count": 1,
   "metadata": {
    "collapsed": false
   },
   "outputs": [],
   "source": [
    "%matplotlib inline \n",
    "import matplotlib\n",
    "import matplotlib.pyplot as plt\n",
    "import pandas as pnd\n",
    "import numpy as np\n",
    "from functools import reduce"
   ]
  },
  {
   "cell_type": "code",
   "execution_count": 2,
   "metadata": {
    "collapsed": true
   },
   "outputs": [],
   "source": [
    "def interpolate(x_values, y_values, x):\n",
    "    def basis(j):\n",
    "        p = [(x - x_values[m])/(x_values[j] - x_values[m]) for m in range(k) if m != j]\n",
    "        return reduce(lambda x, y : x * y, p)\n",
    "    k = len(x_values)\n",
    "    return sum(basis(j) * y_values[j] for j in range(k))"
   ]
  },
  {
   "cell_type": "code",
   "execution_count": 3,
   "metadata": {
    "collapsed": false
   },
   "outputs": [],
   "source": [
    "tt = [100 * x for x in range(0, 13)]\n",
    "\n",
    "roro = [1.295, 0.95, 0.748, 0.617, 0.525, 0.457, 0.405, 0.363, 0.330, 0.301, 0.275, 0.257, 0.240]\n",
    "\n",
    "CC = [1e3 * x for x in [1.024, 1.068, 1.097, 1.122, 1.151, 1.185, 1.214, 1.239, 1.264, 1.290, 1.306, 1.323, 1.340]]\n",
    "\n",
    "lmdlmd = [1e-2 * x for x in [2.28, 3.13, 4.01, 4.84, 5.70, 6.56, 7.42, 8.27, 9.15, 10.0, 10.90, 11.75, 12.62]]"
   ]
  },
  {
   "cell_type": "code",
   "execution_count": 4,
   "metadata": {
    "collapsed": true
   },
   "outputs": [],
   "source": [
    "a = lambda t : interpolate(tt, lmdlmd, t)/(interpolate(tt, CC, t) * interpolate(tt, roro, t))"
   ]
  },
  {
   "cell_type": "code",
   "execution_count": 5,
   "metadata": {
    "collapsed": false
   },
   "outputs": [
    {
     "data": {
      "image/png": "[encoded data removed]",
      "text/plain": [
       "<matplotlib.figure.Figure at 0x1867f52048>"
      ]
     },
     "metadata": {},
     "output_type": "display_data"
    }
   ],
   "source": [
    "fig, ax = plt.subplots(figsize=(20,10))\n",
    "\n",
    "h = 10\n",
    "xs = range(500, 650 + h, h)\n",
    "ys = [a(x) for x in xs]\n",
    "ax.plot(xs, ys, '-r',label = '$a(t)$')\n",
    "\n",
    "plt.xlim(500 - h, 650 + h)\n",
    "plt.ylim(1.2e-4, 1.7e-4)\n",
    "\n",
    "plt.xlabel('t', fontsize = 14)\n",
    "plt.ylabel('a', fontsize = 14)\n",
    "\n",
    "ax.xaxis.set_minor_locator(plt.MultipleLocator(1))\n",
    "ax.yaxis.set_minor_locator(plt.MultipleLocator(1))\n",
    "\n",
    "ax.axhline(0, color = 'black')\n",
    "ax.axvline(0, color = 'black')\n",
    "\n",
    "ax.grid(which='major', axis='x', linewidth=0.75, linestyle='-', color='0.75')\n",
    "ax.grid(which='major', axis='y', linewidth=0.75, linestyle='-', color='0.75')\n",
    "\n",
    "legend = ax.legend(loc = 'upper left', shadow = True)\n",
    "\n",
    "frame = legend.get_frame()\n",
    "frame.set_facecolor('0.90')\n",
    "\n",
    "plt.show()"
   ]
  },
  {
   "cell_type": "code",
   "execution_count": 6,
   "metadata": {
    "collapsed": false
   },
   "outputs": [
    {
     "data": {
      "text/html": [
       "<div>\n",
       "<table border=\"1\" class=\"dataframe\">\n",
       "  <thead>\n",
       "    <tr style=\"text-align: right;\">\n",
       "      <th></th>\n",
       "      <th>0</th>\n",
       "      <th>1</th>\n",
       "      <th>2</th>\n",
       "      <th>3</th>\n",
       "      <th>4</th>\n",
       "      <th>5</th>\n",
       "      <th>6</th>\n",
       "    </tr>\n",
       "  </thead>\n",
       "  <tbody>\n",
       "    <tr>\n",
       "      <th>t</th>\n",
       "      <td>500.000000</td>\n",
       "      <td>525.000000</td>\n",
       "      <td>550.000000</td>\n",
       "      <td>575.000000</td>\n",
       "      <td>600.000000</td>\n",
       "      <td>625.000000</td>\n",
       "      <td>650.000000</td>\n",
       "    </tr>\n",
       "    <tr>\n",
       "      <th>a(t)</th>\n",
       "      <td>0.000121</td>\n",
       "      <td>0.000128</td>\n",
       "      <td>0.000136</td>\n",
       "      <td>0.000143</td>\n",
       "      <td>0.000151</td>\n",
       "      <td>0.000159</td>\n",
       "      <td>0.000167</td>\n",
       "    </tr>\n",
       "  </tbody>\n",
       "</table>\n",
       "</div>"
      ],
      "text/plain": [
       "               0           1           2           3           4           5  \\\n",
       "t     500.000000  525.000000  550.000000  575.000000  600.000000  625.000000   \n",
       "a(t)    0.000121    0.000128    0.000136    0.000143    0.000151    0.000159   \n",
       "\n",
       "               6  \n",
       "t     650.000000  \n",
       "a(t)    0.000167  "
      ]
     },
     "execution_count": 6,
     "metadata": {},
     "output_type": "execute_result"
    }
   ],
   "source": [
    "h = 25\n",
    "t = range(500, 650 + h, h)\n",
    "pnd.DataFrame(np.array([t, [a(x) for x in t]]), index = ['t','a(t)'])"
   ]
  },
  {
   "cell_type": "code",
   "execution_count": null,
   "metadata": {
    "collapsed": true
   },
   "outputs": [],
   "source": []
  }
 ],
 "metadata": {
  "kernelspec": {
   "display_name": "Python 3",
   "language": "python",
   "name": "python3"
  },
  "language_info": {
   "codemirror_mode": {
    "name": "ipython",
    "version": 3
   },
   "file_extension": ".py",
   "mimetype": "text/x-python",
   "name": "python",
   "nbconvert_exporter": "python",
   "pygments_lexer": "ipython3",
   "version": "3.5.2"
  }
 },
 "nbformat": 4,
 "nbformat_minor": 0
}
